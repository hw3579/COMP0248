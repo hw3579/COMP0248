{
  "cells": [
    {
      "cell_type": "markdown",
      "metadata": {
        "id": "OGVgjAv6HUzM"
      },
      "source": [
        "# Install and Import Libraries"
      ]
    },
    {
      "cell_type": "code",
      "execution_count": 1,
      "metadata": {
        "colab": {
          "base_uri": "https://localhost:8080/"
        },
        "id": "vmqsseNUG1Ri",
        "outputId": "7d64a73b-1f48-48a5-81c5-5717ee21fb46"
      },
      "outputs": [
        {
          "name": "stdout",
          "output_type": "stream",
          "text": [
            "Requirement already satisfied: torch in c:\\users\\a\\appdata\\local\\programs\\python\\python39\\lib\\site-packages (2.1.0+cu121)\n",
            "Requirement already satisfied: torchvision in c:\\users\\a\\appdata\\local\\programs\\python\\python39\\lib\\site-packages (0.16.0)\n",
            "Requirement already satisfied: filelock in c:\\users\\a\\appdata\\local\\programs\\python\\python39\\lib\\site-packages (from torch) (3.10.2)\n",
            "Requirement already satisfied: typing-extensions in c:\\users\\a\\appdata\\local\\programs\\python\\python39\\lib\\site-packages (from torch) (4.5.0)\n",
            "Requirement already satisfied: sympy in c:\\users\\a\\appdata\\local\\programs\\python\\python39\\lib\\site-packages (from torch) (1.11.1)\n",
            "Requirement already satisfied: networkx in c:\\users\\a\\appdata\\local\\programs\\python\\python39\\lib\\site-packages (from torch) (3.1)\n",
            "Requirement already satisfied: jinja2 in c:\\users\\a\\appdata\\local\\programs\\python\\python39\\lib\\site-packages (from torch) (3.1.2)\n",
            "Requirement already satisfied: fsspec in c:\\users\\a\\appdata\\local\\programs\\python\\python39\\lib\\site-packages (from torch) (2023.9.2)\n",
            "Requirement already satisfied: numpy in c:\\users\\a\\appdata\\local\\programs\\python\\python39\\lib\\site-packages (from torchvision) (1.23.5)\n",
            "Requirement already satisfied: requests in c:\\users\\a\\appdata\\local\\programs\\python\\python39\\lib\\site-packages (from torchvision) (2.31.0)\n",
            "Requirement already satisfied: pillow!=8.3.*,>=5.3.0 in c:\\users\\a\\appdata\\local\\programs\\python\\python39\\lib\\site-packages (from torchvision) (10.1.0)\n",
            "Requirement already satisfied: MarkupSafe>=2.0 in c:\\users\\a\\appdata\\local\\programs\\python\\python39\\lib\\site-packages (from jinja2->torch) (2.1.1)\n",
            "Requirement already satisfied: charset-normalizer<4,>=2 in c:\\users\\a\\appdata\\local\\programs\\python\\python39\\lib\\site-packages (from requests->torchvision) (2.1.1)\n",
            "Requirement already satisfied: idna<4,>=2.5 in c:\\users\\a\\appdata\\local\\programs\\python\\python39\\lib\\site-packages (from requests->torchvision) (3.4)\n",
            "Requirement already satisfied: urllib3<3,>=1.21.1 in c:\\users\\a\\appdata\\local\\programs\\python\\python39\\lib\\site-packages (from requests->torchvision) (1.26.13)\n",
            "Requirement already satisfied: certifi>=2017.4.17 in c:\\users\\a\\appdata\\local\\programs\\python\\python39\\lib\\site-packages (from requests->torchvision) (2022.9.24)\n",
            "Requirement already satisfied: mpmath>=0.19 in c:\\users\\a\\appdata\\local\\programs\\python\\python39\\lib\\site-packages (from sympy->torch) (1.2.1)\n"
          ]
        },
        {
          "name": "stderr",
          "output_type": "stream",
          "text": [
            "\n",
            "[notice] A new release of pip is available: 23.2.1 -> 24.3.1\n",
            "[notice] To update, run: python.exe -m pip install --upgrade pip\n"
          ]
        }
      ],
      "source": [
        "!pip install torch torchvision"
      ]
    },
    {
      "cell_type": "markdown",
      "metadata": {
        "id": "5V_v3gdCc1Vs"
      },
      "source": [
        "**Import the Relevant Packages**"
      ]
    },
    {
      "cell_type": "code",
      "execution_count": 1,
      "metadata": {
        "id": "jztjEo6YG75x"
      },
      "outputs": [],
      "source": [
        "import torch\n",
        "import torch.nn as nn\n",
        "import torch.optim as optim\n",
        "import torch.nn.functional as F\n",
        "\n",
        "from torchvision import datasets, transforms\n",
        "from torch.utils.data import DataLoader\n",
        "from torch.nn.utils import weight_norm\n",
        "from tqdm import tqdm\n",
        "\n",
        "import matplotlib.pyplot as plt\n",
        "import numpy as np\n"
      ]
    },
    {
      "cell_type": "markdown",
      "metadata": {
        "id": "wuGP1Kx4HJKF"
      },
      "source": [
        "# Load and Transform the MNIST Dataset\n",
        "In PyTorch, we can download and load the MNIST dataset using the torchvision.datasets.MNIST class. By default, each image is in the range [0, 1] after applying transforms.ToTensor()."
      ]
    },
    {
      "cell_type": "code",
      "execution_count": 2,
      "metadata": {
        "colab": {
          "base_uri": "https://localhost:8080/"
        },
        "id": "KQx_EHryHA8Z",
        "outputId": "319df2eb-728b-46ac-9886-512b3d46ee04"
      },
      "outputs": [
        {
          "name": "stdout",
          "output_type": "stream",
          "text": [
            "Number of training samples: 60000\n",
            "Number of test samples: 10000\n"
          ]
        }
      ],
      "source": [
        "# Define a transform to convert PIL images to tensors and normalize them\n",
        "transform = transforms.Compose([\n",
        "    transforms.ToTensor(),  # converts [0,255] range to [0,1]\n",
        "])\n",
        "\n",
        "# Download and create datasets\n",
        "train_dataset = datasets.MNIST(root='.', train=True,  download=True, transform=transform)\n",
        "test_dataset  = datasets.MNIST(root='.', train=False, download=True, transform=transform)\n",
        "\n",
        "# Define data loaders to feed the data to the model during training and testing\n",
        "batch_size = 32\n",
        "train_loader = DataLoader(train_dataset, batch_size=batch_size, shuffle=True)\n",
        "test_loader  = DataLoader(test_dataset,  batch_size=batch_size, shuffle=False)\n",
        "\n",
        "print(\"Number of training samples:\", len(train_dataset))\n",
        "print(\"Number of test samples:\", len(test_dataset))\n"
      ]
    },
    {
      "cell_type": "markdown",
      "metadata": {
        "id": "Ljb892zKHfZh"
      },
      "source": [
        "# Visualize Some Sample Images\n",
        "Let's visualize the first ten images from the training set:"
      ]
    },
    {
      "cell_type": "code",
      "execution_count": 3,
      "metadata": {
        "colab": {
          "base_uri": "https://localhost:8080/",
          "height": 125
        },
        "id": "Fx-27B2GHDTt",
        "outputId": "96a2ba90-539f-4beb-cd73-0db2ba91d4be"
      },
      "outputs": [
        {
          "data": {
            "image/png": "[encoded data removed]",
            "text/plain": [
              "<Figure size 1000x100 with 10 Axes>"
            ]
          },
          "metadata": {},
          "output_type": "display_data"
        }
      ],
      "source": [
        "%matplotlib inline\n",
        "pltsize=1\n",
        "fig = plt.figure(figsize=(10*pltsize, pltsize))\n",
        "\n",
        "for i in range(10):\n",
        "    image, label = train_dataset[i]\n",
        "    # image shape: [1, 28, 28] -> we take the first dimension to plot\n",
        "    plt.subplot(1,10,i+1)\n",
        "    plt.axis('off')\n",
        "    plt.imshow(image.numpy().reshape(28,28), cmap=\"gray_r\")\n",
        "    plt.title('Class: '+str(label))\n",
        "plt.show()\n"
      ]
    },
    {
      "cell_type": "markdown",
      "metadata": {
        "id": "FeQXZh4V_WOh"
      },
      "source": [
        "# CNN Model in PyTorch"
      ]
    },
    {
      "cell_type": "markdown",
      "metadata": {
        "id": "VUG5d-UnHqLE"
      },
      "source": [
        "## Define the CNN Model in PyTorch\n",
        "\n",
        "* Two convolutional layers (32 and 64 filters, each 3×3 kernel with padding=1), each followed by 2×2 max pooling.\n",
        "* A fully connected hidden layer (nn.Linear) with 64 units and ReLU activation.\n",
        "* A final fully connected layer of size 10 for the 10 classes (digits 0–9).\n",
        "* We typically apply the softmax implicitly through CrossEntropyLoss.\n",
        "\n"
      ]
    },
    {
      "cell_type": "code",
      "execution_count": 11,
      "metadata": {
        "id": "F7fHpFulH2tn"
      },
      "outputs": [],
      "source": [
        "class CNN(nn.Module):\n",
        "    def __init__(self):\n",
        "        super(CNN, self).__init__()\n",
        "\n",
        "        # 1 input channel (grayscale), 32 output channels\n",
        "        self.conv1 = nn.Conv2d(in_channels=1, out_channels=32, kernel_size=3, padding=1)\n",
        "\n",
        "        # 32 input channels, 64 output channels\n",
        "        self.conv2 = nn.Conv2d(in_channels=32, out_channels=64, kernel_size=3, padding=1)\n",
        "\n",
        "        # After two 2x2 pooling operations on a 28x28 image -> 7x7\n",
        "        # so total features before FC = 64 * 7 * 7\n",
        "        self.fc1 = nn.Linear(in_features=64*7*7, out_features=64)\n",
        "        self.fc2 = nn.Linear(in_features=64, out_features=10)\n",
        "\n",
        "    def forward(self, x):\n",
        "        # Conv1 + ReLU + MaxPool\n",
        "        x = F.relu(self.conv1(x))         # [batch_size, 32, 28, 28]\n",
        "        x = F.max_pool2d(x, 2, 2)         # [batch_size, 32, 14, 14]\n",
        "\n",
        "        # Conv2 + ReLU + MaxPool\n",
        "        x = F.relu(self.conv2(x))         # [batch_size, 64, 14, 14]\n",
        "        x = F.max_pool2d(x, 2, 2)         # [batch_size, 64,  7,  7]\n",
        "\n",
        "        # Flatten\n",
        "        x = x.view(x.size(0), -1)         # [batch_size, 64*7*7]\n",
        "\n",
        "        # FC1 + ReLU\n",
        "        x = F.relu(self.fc1(x))           # [batch_size, 64]\n",
        "\n",
        "        # Output layer (the softmax will be handled by CrossEntropyLoss)\n",
        "        x = self.fc2(x)                   # [batch_size, 10]\n",
        "\n",
        "        return x\n"
      ]
    },
    {
      "cell_type": "markdown",
      "metadata": {
        "id": "jhrquecB1u4m"
      },
      "source": [
        "The number of convolutional layers can be **adjusted**, you can adjust the structure of the CNN in __init__, and redefine how the network performs forward transmission in forward. The following provides an example of increasing the amount of convolutional layers to 3."
      ]
    },
    {
      "cell_type": "code",
      "execution_count": 4,
      "metadata": {
        "id": "FT_qClwizU2u"
      },
      "outputs": [],
      "source": [
        "class CNN(nn.Module):\n",
        "    def __init__(self):\n",
        "        # super(CNN, self).__init__()\n",
        "\n",
        "\n",
        "        self.conv1 = nn.Conv2d(in_channels=1, out_channels=32, kernel_size=3, padding=1)\n",
        "\n",
        "\n",
        "        self.conv2 = nn.Conv2d(in_channels=32, out_channels=64, kernel_size=3, padding=1)\n",
        "\n",
        "        # Add conv3: 64 input channels, 128 output channels\n",
        "        self.conv3 = nn.Conv2d(in_channels=64, out_channels=128, kernel_size=3, padding=1)\n",
        "\n",
        "        self.fc1 = nn.Linear(in_features=128*3*3, out_features=128)\n",
        "        self.fc2 = nn.Linear(in_features=128, out_features=10)\n",
        "\n",
        "    def forward(self, x):\n",
        "        x = F.relu(self.conv1(x))         # [batch_size, 32, 28, 28]\n",
        "        x = F.max_pool2d(x, 2, 2)         # [batch_size, 32, 14, 14]\n",
        "\n",
        "        x = F.relu(self.conv2(x))         # [batch_size, 64, 14, 14]\n",
        "        x = F.max_pool2d(x, 2, 2)         # [batch_size, 64,  7,  7]\n",
        "\n",
        "        # Add: Conv3 + ReLU + MaxPool\n",
        "        x = F.relu(self.conv3(x))         # [batch_size, 128, 7, 7]\n",
        "        x = F.max_pool2d(x, 2, 2)         # [batch_size, 128,  3,  3]\n",
        "\n",
        "        # Flatten\n",
        "        x = x.view(x.size(0), -1)         # [batch_size, 128*3*3]\n",
        "\n",
        "        # FC1 + ReLU\n",
        "        x = F.relu(self.fc1(x))           # [batch_size, 128]\n",
        "\n",
        "        # Output layer (the softmax will be handled by CrossEntropyLoss)\n",
        "        x = self.fc2(x)                   # [batch_size, 10]\n",
        "\n",
        "        return x\n",
        "    \n",
        "    \n",
        "   "
      ]
    },
    {
      "cell_type": "markdown",
      "metadata": {
        "id": "6h6iKyZHH6di"
      },
      "source": [
        "## Print the CNN Model Structure\n"
      ]
    },
    {
      "cell_type": "code",
      "execution_count": 13,
      "metadata": {
        "colab": {
          "base_uri": "https://localhost:8080/"
        },
        "id": "gUrkh576H-BZ",
        "outputId": "cc97941b-4972-4b68-8cf3-a1af6f80be91"
      },
      "outputs": [
        {
          "name": "stdout",
          "output_type": "stream",
          "text": [
            "CNN(\n",
            "  (conv1): Conv2d(1, 32, kernel_size=(3, 3), stride=(1, 1), padding=(1, 1))\n",
            "  (conv2): Conv2d(32, 64, kernel_size=(3, 3), stride=(1, 1), padding=(1, 1))\n",
            "  (conv3): Conv2d(64, 128, kernel_size=(3, 3), stride=(1, 1), padding=(1, 1))\n",
            "  (fc1): Linear(in_features=1152, out_features=128, bias=True)\n",
            "  (fc2): Linear(in_features=128, out_features=10, bias=True)\n",
            ")\n"
          ]
        }
      ],
      "source": [
        "device = torch.device('cuda')\n",
        "model = CNN().to(device)\n",
        "print(model)"
      ]
    },
    {
      "cell_type": "markdown",
      "metadata": {
        "id": "mKF84rfvIPEQ"
      },
      "source": [
        "## Define the Loss Function and Optimizer\n",
        "\n",
        "Use optim.RMSprop and nn.CrossEntropyLoss."
      ]
    },
    {
      "cell_type": "code",
      "execution_count": 14,
      "metadata": {
        "id": "rHq5M32iITUe"
      },
      "outputs": [],
      "source": [
        "criterion = nn.CrossEntropyLoss()         # combines softmax + cross entropy\n",
        "optimizer = optim.RMSprop(model.parameters(), lr=0.001)"
      ]
    },
    {
      "cell_type": "markdown",
      "metadata": {
        "id": "sGRoJw-pIW1a"
      },
      "source": [
        "## Train the CNN Model\n",
        "\n",
        "We train the model for 12 epochs. During each epoch, we:\n",
        "\n",
        "1. Set the model to training mode (model.train()).\n",
        "2.  Loop over the train_loader, compute the loss, do backpropagation, and update parameters.\n",
        "3. Evaluate on the test set (used here as the validation set, as in your original example).\n",
        "4. Track the best validation accuracy and save the model weights (model.weights.best.hdf5) whenever we see an improvement."
      ]
    },
    {
      "cell_type": "code",
      "execution_count": 15,
      "metadata": {
        "colab": {
          "base_uri": "https://localhost:8080/"
        },
        "id": "C50xRNTbH_6X",
        "outputId": "042209ba-6c86-4502-a804-f181a9e98cf2"
      },
      "outputs": [
        {
          "name": "stderr",
          "output_type": "stream",
          "text": [
            "                                                                                                    \r"
          ]
        },
        {
          "name": "stdout",
          "output_type": "stream",
          "text": [
            "\n",
            "Epoch [1/12], Training Loss: 0.1046, Evaluation Loss: 0.1452,  Test Accuracy: 95.74%\n",
            "  --> Model saved (Best accuracy so far)\n"
          ]
        },
        {
          "name": "stderr",
          "output_type": "stream",
          "text": [
            "                                                                                                    \r"
          ]
        },
        {
          "name": "stdout",
          "output_type": "stream",
          "text": [
            "\n",
            "Epoch [2/12], Training Loss: 0.1004, Evaluation Loss: 0.1518,  Test Accuracy: 95.71%\n"
          ]
        },
        {
          "name": "stderr",
          "output_type": "stream",
          "text": [
            "Epoch [3/12] Training:  97%|█████████████████████▍| 1822/1875 [00:10<00:00, 158.62it/s, loss=0.0239]"
          ]
        }
      ],
      "source": [
        "#Train\n",
        "epochs = 12\n",
        "best_acc = 0.0\n",
        "\n",
        "for epoch in range(epochs):\n",
        "    model.train()\n",
        "    running_loss = 0.0\n",
        "\n",
        "    # Create a progress bar for training data\n",
        "    train_pbar = tqdm(train_loader, desc=f'Epoch [{epoch+1}/{epochs}] Training',\n",
        "                     leave=False, ncols=100)\n",
        "\n",
        "    # training loop\n",
        "    for images, labels in train_pbar:\n",
        "        images, labels = images.to(device), labels.to(device)\n",
        "\n",
        "        # 1. Zero the gradients\n",
        "        optimizer.zero_grad()\n",
        "\n",
        "        # 2. Forward pass\n",
        "        outputs = model(images)\n",
        "\n",
        "        # 3. Compute the loss\n",
        "        loss = criterion(outputs, labels)\n",
        "\n",
        "        # 4. Backpropagation\n",
        "        loss.backward()\n",
        "\n",
        "        # 5. Update parameters\n",
        "        optimizer.step()\n",
        "\n",
        "        # Accumulate the training loss\n",
        "        running_loss += loss.item() * images.size(0)\n",
        "\n",
        "        # Update the progress bar and display the loss\n",
        "        train_pbar.set_postfix({'loss': f'{loss.item():.4f}'})\n",
        "\n",
        "    # Calculate the average training loss\n",
        "    epoch_training_loss = running_loss / len(train_loader.dataset)\n",
        "\n",
        "    # evaluate the model\n",
        "    model.eval()\n",
        "    correct = 0\n",
        "    running_val_loss = 0.0\n",
        "    total = 0\n",
        "\n",
        "    # Create a progress bar for test data\n",
        "    test_pbar = tqdm(test_loader, desc=f'Epoch [{epoch+1}/{epochs}] Testing',\n",
        "                    leave=False, ncols=100)\n",
        "\n",
        "    with torch.no_grad():\n",
        "        for images, labels in test_pbar:\n",
        "            images, labels = images.to(device), labels.to(device)\n",
        "            outputs = model(images)\n",
        "            val_loss = criterion(outputs, labels)\n",
        "            running_val_loss += val_loss.item() * images.size(0) # This line was incorrectly indented\n",
        "\n",
        "            _, predicted = torch.max(outputs, 1)\n",
        "            total += labels.size(0)\n",
        "            correct += (predicted == labels).sum().item()\n",
        "\n",
        "            # Update the progress bar and display the accuracy\n",
        "            current_acc = 100.0 * correct / total\n",
        "            test_pbar.set_postfix({'acc': f'{current_acc:.2f}%'})\n",
        "\n",
        "    epoch_val_loss = running_val_loss / len(test_loader.dataset) # This line was incorrectly indented\n",
        "    accuracy = 100.0 * correct / total\n",
        "    # print epoch summary\n",
        "    print(f\"\\nEpoch [{epoch+1}/{epochs}], Training Loss: {epoch_training_loss:.4f}, Evaluation Loss: {epoch_val_loss:.4f},  Test Accuracy: {accuracy:.2f}%\")\n",
        "\n",
        "    # save best model\n",
        "    if accuracy > best_acc:\n",
        "        best_acc = accuracy\n",
        "        torch.save(model.state_dict(), 'model.weights.best.hdf5')\n",
        "        print(\"  --> Model saved (Best accuracy so far)\")\n",
        "\n",
        "print(f\"\\nTraining completed! Best accuracy: {best_acc:.2f}%\")"
      ]
    },
    {
      "cell_type": "markdown",
      "metadata": {
        "id": "B3HcSorfe90b"
      },
      "source": [
        "#Compare with the MLP model\n",
        "To Compare the performance of MLP on the same dataset,you can refer to Practical 1："
      ]
    },
    {
      "cell_type": "markdown",
      "metadata": {
        "id": "-A9cWm59nG2l"
      },
      "source": [
        "## Define the MLP model in PyTorch\n",
        "\n"
      ]
    },
    {
      "cell_type": "code",
      "execution_count": 16,
      "metadata": {
        "colab": {
          "base_uri": "https://localhost:8080/"
        },
        "id": "FKlvUB0lfCeB",
        "outputId": "d3d3daa6-a9ca-446f-d1cb-75487c5dedbe"
      },
      "outputs": [
        {
          "name": "stdout",
          "output_type": "stream",
          "text": [
            "Using PyTorch version: 2.1.0+cu121\n",
            "Using GPU, device name: NVIDIA GeForce RTX 4080 SUPER\n"
          ]
        }
      ],
      "source": [
        "# MLP\n",
        "\n",
        "import torch\n",
        "import torch.nn as nn\n",
        "from torch.utils.data import DataLoader\n",
        "from torchvision import datasets\n",
        "from torchvision.transforms import ToTensor\n",
        "\n",
        "import numpy as np\n",
        "import matplotlib.pyplot as plt\n",
        "import os\n",
        "\n",
        "print('Using PyTorch version:', torch.__version__)\n",
        "if torch.cuda.is_available():\n",
        "    print('Using GPU, device name:', torch.cuda.get_device_name(0))\n",
        "    device = torch.device('cuda')\n",
        "else:\n",
        "    print('No GPU found, using CPU instead.')\n",
        "    device = torch.device('cpu')\n",
        "class SimpleMLP(nn.Module):\n",
        "    def __init__(self):\n",
        "        super().__init__()\n",
        "        self.layers = nn.Sequential(\n",
        "            nn.Flatten(),\n",
        "            nn.Linear(28*28, 20),\n",
        "            nn.ReLU(),\n",
        "            nn.Linear(20, 10)\n",
        "        )\n",
        "\n",
        "    def forward(self, x):\n",
        "        return self.layers(x)\n",
        "\n",
        "model = SimpleMLP().to(device)\n",
        "criterion = nn.CrossEntropyLoss()\n",
        "optimizer = torch.optim.Adam(model.parameters())"
      ]
    },
    {
      "cell_type": "markdown",
      "metadata": {
        "id": "k7bNfuVfnqtM"
      },
      "source": [
        "## Define the train and test function"
      ]
    },
    {
      "cell_type": "code",
      "execution_count": 17,
      "metadata": {
        "id": "WeAsmSh8fQfz"
      },
      "outputs": [],
      "source": [
        "# count number of correct classification\n",
        "def correct(output, target):\n",
        "    predicted_digits = output.argmax(1)                # pick digit with largest network output\n",
        "    correct_ones = (predicted_digits == target).type(torch.float)  # 1.0 for correct, 0.0 for incorrect\n",
        "    return correct_ones.sum().item()                  # count number of correct ones\n",
        "\n",
        "def train(data_loader, model, criterion, optimizer):\n",
        "    model.train()\n",
        "\n",
        "    num_batches = len(data_loader)\n",
        "    num_items = len(data_loader.dataset)\n",
        "\n",
        "    total_loss = 0\n",
        "    total_correct = 0\n",
        "    for data, target in data_loader:\n",
        "        # Copy data and targets to GPU\n",
        "        data = data.to(device)\n",
        "        target = target.to(device)\n",
        "\n",
        "        # Do a forward pass\n",
        "        output = model(data)\n",
        "\n",
        "        # Calculate the loss\n",
        "        loss = criterion(output, target)\n",
        "        total_loss += loss\n",
        "\n",
        "        # Count number of correct digits\n",
        "        total_correct += correct(output, target)\n",
        "\n",
        "        # Backpropagation\n",
        "        loss.backward()\n",
        "        optimizer.step()\n",
        "        optimizer.zero_grad()\n",
        "\n",
        "    train_loss = total_loss/num_batches\n",
        "    accuracy = total_correct/num_items\n",
        "    print(f\"Average loss: {train_loss:7f}, accuracy: {accuracy:.2%}\")\n",
        "\n",
        "def test(test_loader, model, criterion):\n",
        "    model.eval()\n",
        "\n",
        "    num_batches = len(test_loader)\n",
        "    num_items = len(test_loader.dataset)\n",
        "\n",
        "    test_loss = 0\n",
        "    total_correct = 0\n",
        "\n",
        "    with torch.no_grad():\n",
        "        for data, target in test_loader:\n",
        "            # Copy data and targets to GPU\n",
        "            data = data.to(device)\n",
        "            target = target.to(device)\n",
        "\n",
        "            # Do a forward pass\n",
        "            output = model(data)\n",
        "\n",
        "            # Calculate the loss\n",
        "            loss = criterion(output, target)\n",
        "            test_loss += loss.item()\n",
        "\n",
        "            # Count number of correct digits\n",
        "            total_correct += correct(output, target)\n",
        "\n",
        "    test_loss = test_loss/num_batches\n",
        "    accuracy = total_correct/num_items\n",
        "\n",
        "    print(f\"Testset accuracy: {100*accuracy:>0.1f}%, average loss: {test_loss:>7f}\")\n",
        "\n"
      ]
    },
    {
      "cell_type": "markdown",
      "metadata": {
        "id": "47_T9brCn4SZ"
      },
      "source": [
        "## Train the MLP model and show the test result"
      ]
    },
    {
      "cell_type": "code",
      "execution_count": 18,
      "metadata": {
        "colab": {
          "base_uri": "https://localhost:8080/"
        },
        "id": "55-6J6XDfVab",
        "outputId": "bfb6f4d3-a301-4d78-fe83-c23baf7b12f8"
      },
      "outputs": [
        {
          "name": "stdout",
          "output_type": "stream",
          "text": [
            "Training epoch: 1\n",
            "Average loss: 0.415297, accuracy: 88.83%\n",
            "Training epoch: 2\n",
            "Average loss: 0.229880, accuracy: 93.43%\n",
            "Training epoch: 3\n",
            "Average loss: 0.191627, accuracy: 94.47%\n",
            "Training epoch: 4\n",
            "Average loss: 0.168208, accuracy: 95.19%\n",
            "Training epoch: 5\n",
            "Average loss: 0.153250, accuracy: 95.55%\n",
            "Training epoch: 6\n",
            "Average loss: 0.142409, accuracy: 95.84%\n",
            "Training epoch: 7\n",
            "Average loss: 0.134119, accuracy: 96.03%\n",
            "Training epoch: 8\n",
            "Average loss: 0.126296, accuracy: 96.24%\n",
            "Training epoch: 9\n",
            "Average loss: 0.120594, accuracy: 96.46%\n",
            "Training epoch: 10\n",
            "Average loss: 0.116355, accuracy: 96.54%\n",
            "Training epoch: 11\n",
            "Average loss: 0.111793, accuracy: 96.78%\n",
            "Training epoch: 12\n",
            "Average loss: 0.107661, accuracy: 96.77%\n",
            "Testset accuracy: 95.6%, average loss: 0.152534\n"
          ]
        }
      ],
      "source": [
        "epochs = 12\n",
        "for epoch in range(epochs):\n",
        "    print(f\"Training epoch: {epoch+1}\")\n",
        "    train(train_loader, model, criterion, optimizer)\n",
        "\n",
        "test(test_loader, model, criterion)"
      ]
    },
    {
      "cell_type": "markdown",
      "metadata": {
        "id": "CKwF3yqr_bod"
      },
      "source": [
        "# Overfitting\n"
      ]
    },
    {
      "cell_type": "markdown",
      "metadata": {
        "id": "4Wto6V8JArfG"
      },
      "source": [
        "**Overfitting** occurs when the model learns the training data too well, including its noise and irrelevant details, to the extent that it performs poorly on unseen or test data."
      ]
    },
    {
      "cell_type": "markdown",
      "metadata": {
        "id": "-3E3od-2_wNM"
      },
      "source": [
        "## Regularisation"
      ]
    },
    {
      "cell_type": "markdown",
      "metadata": {
        "id": "GjBvJR56AU1k"
      },
      "source": [
        "Regularization techniques help improve a neural network’s generalization ability by reducing overfitting. Common regularization techniques are as follows:"
      ]
    },
    {
      "cell_type": "markdown",
      "metadata": {
        "id": "1nCXyps3AHHq"
      },
      "source": [
        "\n",
        "\n",
        "*   **L1 Regularization:** Penalizes the absolute values of weights, encouraging sparsity (some weights become 0).\n",
        "*   **L2 Regularization:** Penalizes the squared values of weights, preventing large weights.\n",
        "\n",
        "\n",
        "\n",
        "\n",
        "\n"
      ]
    },
    {
      "cell_type": "code",
      "execution_count": null,
      "metadata": {
        "id": "TOBB3wrh_j4B"
      },
      "outputs": [],
      "source": [
        "#l1_loss = l1_reg * lambda_l1\n",
        "#l2_loss = l2_reg * lambda_l2\n",
        "#lambda_l1 = 0.00001  # L1 regularization parameter\n",
        "#lambda_l2 = 0.00001  # L2 regularization parameter\n",
        "def get_l1_regularization(model):\n",
        "    l1_reg = 0\n",
        "    for param in model.parameters():\n",
        "        l1_reg += torch.sum(torch.abs(param))\n",
        "    return l1_reg\n",
        "\n",
        "def get_l2_regularization(model):\n",
        "    l2_reg = 0\n",
        "    for param in model.parameters():\n",
        "        l2_reg += torch.sum(torch.pow(param, 2))\n",
        "    return l2_reg\n",
        "\n",
        "#add l1_loss and l2_loss\n",
        "#total_loss = loss + l1_loss + l2_loss\n"
      ]
    },
    {
      "cell_type": "markdown",
      "metadata": {
        "id": "vgQ3BNnvEdXf"
      },
      "source": [
        "Parameters of L1 regularization and L2 regularization control the strength of the L1 penalty applied to the model's weights. Setting these parameters correctly is crucial, as it determines the balance between underfitting and overfitting.\n",
        "\n",
        "\n",
        "*   **Small values** (e.g., 0.0001): Apply a weak penalty, allowing the model to learn more complex patterns but with a higher risk of overfitting.\n",
        "*   **Large values** (e.g., 0.1 or 1.0): Apply a strong penalty, encouraging sparsity (more weights become zero), but with a higher risk of underfitting.\n",
        "\n",
        "Test the value of parameter from small value.\n",
        "\n"
      ]
    },
    {
      "cell_type": "code",
      "execution_count": null,
      "metadata": {
        "id": "zq59_4LvEeGf"
      },
      "outputs": [],
      "source": [
        "lambda_l1 = 0.0001  # L1 regularization parameter()\n",
        "lambda_l2 = 0.0001  # L2 regularization parameter\n",
        "epochs = 12\n",
        "best_acc = 0.0\n",
        "\n",
        "for epoch in range(epochs):\n",
        "    model.train()\n",
        "    running_loss = 0.0\n",
        "\n",
        "    for images, labels in train_loader:\n",
        "        images, labels = images.to(device), labels.to(device)\n",
        "\n",
        "        # 1. Zero the gradients\n",
        "        optimizer.zero_grad()\n",
        "\n",
        "        # 2. Forward pass\n",
        "        outputs = model(images)\n",
        "\n",
        "        # 3. Compute the loss\n",
        "        loss = criterion(outputs, labels)\n",
        "\n",
        "        #Add l1/l2 loss\n",
        "        l1_loss = lambda_l1 * get_l1_regularization(model)\n",
        "        l2_loss = lambda_l2 * get_l2_regularization(model)\n",
        "\n",
        "        #total loss\n",
        "        loss = loss + l1_loss + l2_loss\n",
        "\n",
        "        # 4. Backpropagation\n",
        "        loss.backward()\n",
        "\n",
        "        # 5. Update parameters\n",
        "        optimizer.step()\n",
        "\n",
        "        # Accumulate the training loss\n",
        "        running_loss += loss.item() * images.size(0)\n",
        "\n",
        "    # Compute average training loss over an epoch\n",
        "    epoch_loss = running_loss / len(train_loader.dataset)\n",
        "\n",
        "    # Evaluate on the test set\n",
        "    model.eval()\n",
        "    correct = 0\n",
        "    total = 0\n",
        "    with torch.no_grad():\n",
        "        for images, labels in test_loader:\n",
        "            images, labels = images.to(device), labels.to(device)\n",
        "            outputs = model(images)\n",
        "            _, predicted = torch.max(outputs, 1)\n",
        "            total += labels.size(0)\n",
        "            correct += (predicted == labels).sum().item()\n",
        "\n",
        "    accuracy = 100.0 * correct / total\n",
        "\n",
        "    print(f\"Epoch [{epoch+1}/{epochs}], Loss: {epoch_loss:.4f}, Test Accuracy: {accuracy:.2f}%\")\n",
        "\n",
        "    # Save the model if the test accuracy is the best we've seen so far\n",
        "    if accuracy > best_acc:\n",
        "        best_acc = accuracy\n",
        "        torch.save(model.state_dict(), 'model.weights.best.hdf5')\n",
        "        print(\"  --> Model saved.\")"
      ]
    },
    {
      "cell_type": "markdown",
      "metadata": {
        "id": "kj0bVoRxANa0"
      },
      "source": [
        "## Early Stopping\n",
        "Early Stopping is a training strategy that prevents overfitting by monitoring the performance of the validation set to determine when to stop training.\n",
        "\n"
      ]
    },
    {
      "cell_type": "markdown",
      "metadata": {
        "id": "Ko82ALD7CBIU"
      },
      "source": [
        "#### Define the earlystopping"
      ]
    },
    {
      "cell_type": "code",
      "execution_count": null,
      "metadata": {
        "id": "hNZYdxgVBbrH"
      },
      "outputs": [],
      "source": [
        "class EarlyStopping:\n",
        "    def __init__(self, patience=7, min_delta=0, verbose=True):\n",
        "        \"\"\"\n",
        "        patience: How many epochs did not improve after which training will be stopped\n",
        "        min_delta: The minimum result can be considered as improvement\n",
        "        verbose: Whether to print earlystoppping information\n",
        "        \"\"\"\n",
        "        self.patience = patience\n",
        "        self.min_delta = min_delta\n",
        "        self.verbose = verbose\n",
        "        self.counter = 0\n",
        "        self.best_loss = None\n",
        "        self.early_stop = False\n",
        "        self.val_loss_min = float('inf')\n",
        "\n",
        "    def __call__(self, val_loss):\n",
        "        if self.best_loss is None:\n",
        "            self.best_loss = val_loss\n",
        "            self.counter = 0\n",
        "        elif val_loss > self.best_loss - self.min_delta:\n",
        "            self.counter += 1\n",
        "            if self.verbose:\n",
        "                print(f'EarlyStopping counter: {self.counter} out of {self.patience}')\n",
        "            if self.counter >= self.patience:\n",
        "                self.early_stop = True\n",
        "        else:\n",
        "            self.best_loss = val_loss\n",
        "            self.counter = 0"
      ]
    },
    {
      "cell_type": "markdown",
      "metadata": {
        "id": "kHgxcON3C3OO"
      },
      "source": [
        "#### Initialize EarlyStopping"
      ]
    },
    {
      "cell_type": "code",
      "execution_count": null,
      "metadata": {
        "id": "Nvrj80spC5GA"
      },
      "outputs": [],
      "source": [
        "early_stopping = EarlyStopping(patience=5, verbose=True)\n",
        "history = {'train_loss': [], 'val_loss': [], 'val_acc': []}"
      ]
    },
    {
      "cell_type": "markdown",
      "metadata": {
        "id": "fS7qUnWqDFwM"
      },
      "source": [
        "#### Train with Earlystopping"
      ]
    },
    {
      "cell_type": "code",
      "execution_count": null,
      "metadata": {
        "colab": {
          "base_uri": "https://localhost:8080/"
        },
        "id": "4ZY1jmtoDJ3m",
        "outputId": "e776fbb8-b4ee-4b3e-d265-ab54cc28969d"
      },
      "outputs": [
        {
          "name": "stderr",
          "output_type": "stream",
          "text": []
        },
        {
          "name": "stdout",
          "output_type": "stream",
          "text": [
            "\n",
            "Epoch [1/30]\n",
            "Testset accuracy: 98.18%, Training loss: 0.1528, , Evaluation loss: 0.0578\n",
            "  --> Model saved (Best accuracy so far)\n"
          ]
        },
        {
          "name": "stderr",
          "output_type": "stream",
          "text": []
        },
        {
          "name": "stdout",
          "output_type": "stream",
          "text": [
            "\n",
            "Epoch [2/30]\n",
            "Testset accuracy: 98.95%, Training loss: 0.0454, , Evaluation loss: 0.0365\n",
            "  --> Model saved (Best accuracy so far)\n"
          ]
        },
        {
          "name": "stderr",
          "output_type": "stream",
          "text": []
        },
        {
          "name": "stdout",
          "output_type": "stream",
          "text": [
            "\n",
            "Epoch [3/30]\n",
            "Testset accuracy: 99.05%, Training loss: 0.0317, , Evaluation loss: 0.0276\n",
            "  --> Model saved (Best accuracy so far)\n"
          ]
        },
        {
          "name": "stderr",
          "output_type": "stream",
          "text": []
        },
        {
          "name": "stdout",
          "output_type": "stream",
          "text": [
            "\n",
            "Epoch [4/30]\n",
            "Testset accuracy: 99.24%, Training loss: 0.0240, , Evaluation loss: 0.0267\n",
            "  --> Model saved (Best accuracy so far)\n"
          ]
        },
        {
          "name": "stderr",
          "output_type": "stream",
          "text": []
        },
        {
          "name": "stdout",
          "output_type": "stream",
          "text": [
            "\n",
            "Epoch [5/30]\n",
            "Testset accuracy: 99.12%, Training loss: 0.0198, , Evaluation loss: 0.0246\n"
          ]
        },
        {
          "name": "stderr",
          "output_type": "stream",
          "text": []
        },
        {
          "name": "stdout",
          "output_type": "stream",
          "text": [
            "\n",
            "Epoch [6/30]\n",
            "Testset accuracy: 99.08%, Training loss: 0.0155, , Evaluation loss: 0.0324\n",
            "EarlyStopping counter: 1 out of 5\n"
          ]
        },
        {
          "name": "stderr",
          "output_type": "stream",
          "text": []
        },
        {
          "name": "stdout",
          "output_type": "stream",
          "text": [
            "\n",
            "Epoch [7/30]\n",
            "Testset accuracy: 99.04%, Training loss: 0.0133, , Evaluation loss: 0.0367\n",
            "EarlyStopping counter: 2 out of 5\n"
          ]
        },
        {
          "name": "stderr",
          "output_type": "stream",
          "text": []
        },
        {
          "name": "stdout",
          "output_type": "stream",
          "text": [
            "\n",
            "Epoch [8/30]\n",
            "Testset accuracy: 99.16%, Training loss: 0.0118, , Evaluation loss: 0.0315\n",
            "EarlyStopping counter: 3 out of 5\n"
          ]
        },
        {
          "name": "stderr",
          "output_type": "stream",
          "text": []
        },
        {
          "name": "stdout",
          "output_type": "stream",
          "text": [
            "\n",
            "Epoch [9/30]\n",
            "Testset accuracy: 99.24%, Training loss: 0.0097, , Evaluation loss: 0.0316\n",
            "EarlyStopping counter: 4 out of 5\n"
          ]
        },
        {
          "name": "stderr",
          "output_type": "stream",
          "text": [
            "                                                                                                    "
          ]
        },
        {
          "name": "stdout",
          "output_type": "stream",
          "text": [
            "\n",
            "Epoch [10/30]\n",
            "Testset accuracy: 99.17%, Training loss: 0.0074, , Evaluation loss: 0.0381\n",
            "EarlyStopping counter: 5 out of 5\n",
            "Early stopping triggered\n",
            "\n",
            "Training completed! Best accuracy: 99.24%\n"
          ]
        },
        {
          "name": "stderr",
          "output_type": "stream",
          "text": [
            "\r"
          ]
        }
      ],
      "source": [
        "epochs = 30\n",
        "best_acc = 0.0\n",
        "for epoch in range(epochs):\n",
        "    # Training phase\n",
        "    model.train()\n",
        "    running_loss = 0.0\n",
        "\n",
        "    train_pbar = tqdm(train_loader, desc=f'Epoch [{epoch+1}/{epochs}] Training',\n",
        "                     leave=False, ncols=100)\n",
        "\n",
        "    for images, labels in train_pbar:\n",
        "        images, labels = images.to(device), labels.to(device)\n",
        "\n",
        "        optimizer.zero_grad()\n",
        "        outputs = model(images)\n",
        "        loss = criterion(outputs, labels)\n",
        "        loss.backward()\n",
        "        optimizer.step()\n",
        "\n",
        "        running_loss += loss.item() * images.size(0)\n",
        "        train_pbar.set_postfix({'loss': f'{loss.item():.4f}'})\n",
        "\n",
        "    epoch_train_loss = running_loss / len(train_loader.dataset)\n",
        "    history['train_loss'].append(epoch_train_loss)\n",
        "\n",
        "    # Validation phase\n",
        "    model.eval()\n",
        "    running_val_loss = 0.0\n",
        "    correct = 0\n",
        "    total = 0\n",
        "\n",
        "    test_pbar = tqdm(test_loader, desc=f'Epoch [{epoch+1}/{epochs}] Testing',\n",
        "                    leave=False, ncols=100)\n",
        "\n",
        "    with torch.no_grad():\n",
        "        for images, labels in test_pbar:\n",
        "            images, labels = images.to(device), labels.to(device)\n",
        "            outputs = model(images)\n",
        "            val_loss = criterion(outputs, labels)\n",
        "            running_val_loss += val_loss.item() * images.size(0)\n",
        "\n",
        "            _, predicted = torch.max(outputs, 1)\n",
        "            total += labels.size(0)\n",
        "            correct += (predicted == labels).sum().item()\n",
        "\n",
        "            current_acc = 100.0 * correct / total\n",
        "            test_pbar.set_postfix({'acc': f'{current_acc:.2f}%'})\n",
        "\n",
        "    epoch_val_loss = running_val_loss / len(test_loader.dataset)\n",
        "    accuracy = 100.0 * correct / total\n",
        "\n",
        "    history['val_loss'].append(epoch_val_loss)\n",
        "    history['val_acc'].append(accuracy)\n",
        "\n",
        "    # print epoch summary\n",
        "    print(f\"\\nEpoch [{epoch+1}/{epochs}]\")\n",
        "    print(f\"Testset accuracy: {accuracy:.2f}%, Training loss: {epoch_train_loss:.4f}, , Evaluation loss: {epoch_val_loss:.4f}\")\n",
        "\n",
        "    # Save the best model\n",
        "    if accuracy > best_acc:\n",
        "        best_acc = accuracy\n",
        "        torch.save(model.state_dict(), 'model.weights.best.hdf5')\n",
        "        print(\"  --> Model saved (Best accuracy so far)\")\n",
        "\n",
        "    # Early Stopping checking\n",
        "    early_stopping(epoch_val_loss)\n",
        "    if early_stopping.early_stop:\n",
        "        print(\"Early stopping triggered\")\n",
        "        break\n",
        "\n",
        "print(f\"\\nTraining completed! Best accuracy: {best_acc:.2f}%\")"
      ]
    },
    {
      "cell_type": "code",
      "execution_count": null,
      "metadata": {
        "colab": {
          "base_uri": "https://localhost:8080/",
          "height": 306
        },
        "id": "6DeEhAnEDcH8",
        "outputId": "94da167b-2a83-4657-ea72-5af750b1f5a8"
      },
      "outputs": [
        {
          "data": {
            "image/png": "[encoded data removed]",
            "text/plain": [
              "<Figure size 1200x400 with 2 Axes>"
            ]
          },
          "metadata": {},
          "output_type": "display_data"
        }
      ],
      "source": [
        "# Display the training history\n",
        "import matplotlib.pyplot as plt\n",
        "\n",
        "def plot_training_history(history):\n",
        "    fig, (ax1, ax2) = plt.subplots(1, 2, figsize=(12, 4))\n",
        "\n",
        "    # Plot losses\n",
        "    ax1.plot(history['train_loss'], label='Training Loss')\n",
        "    ax1.plot(history['val_loss'], label='Validation Loss')\n",
        "    ax1.set_title('Model Loss')\n",
        "    ax1.set_xlabel('Epoch')\n",
        "    ax1.set_ylabel('Loss')\n",
        "    ax1.legend()\n",
        "\n",
        "    # Plot accuracy\n",
        "    ax2.plot(history['val_acc'], label='Validation Accuracy')\n",
        "    ax2.set_title('Model Accuracy')\n",
        "    ax2.set_xlabel('Epoch')\n",
        "    ax2.set_ylabel('Accuracy (%)')\n",
        "    ax2.legend()\n",
        "\n",
        "    plt.tight_layout()\n",
        "    plt.show()\n",
        "\n",
        "plot_training_history(history)"
      ]
    }
  ],
  "metadata": {
    "colab": {
      "provenance": [],
      "toc_visible": true
    },
    "kernelspec": {
      "display_name": "Python 3",
      "name": "python3"
    },
    "language_info": {
      "codemirror_mode": {
        "name": "ipython",
        "version": 3
      },
      "file_extension": ".py",
      "mimetype": "text/x-python",
      "name": "python",
      "nbconvert_exporter": "python",
      "pygments_lexer": "ipython3",
      "version": "3.9.13"
    }
  },
  "nbformat": 4,
  "nbformat_minor": 0
}
